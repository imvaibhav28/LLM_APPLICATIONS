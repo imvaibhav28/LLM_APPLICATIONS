{
 "cells": [
  {
   "cell_type": "code",
   "execution_count": 8,
   "id": "2726901d-33f8-4a13-9000-94b519ab4160",
   "metadata": {
    "editable": true,
    "slideshow": {
     "slide_type": ""
    },
    "tags": []
   },
   "outputs": [],
   "source": [
    "# import streamlit as st\n",
    "from langchain_core.messages import AIMessage, HumanMessage\n",
    "from langchain_community.document_loaders import WebBaseLoader\n",
    "from langchain.text_splitter import RecursiveCharacterTextSplitter\n",
    "from langchain_community.vectorstores import Chroma\n",
    "# from langchain_openai import OpenAIEmbeddings, ChatOpenAI\n",
    "from langchain_community.llms import Ollama\n",
    "\n",
    "# from dotenv import load_dotenv\n",
    "from langchain_core.prompts import ChatPromptTemplate, MessagesPlaceholder\n",
    "from langchain.chains import create_history_aware_retriever, create_retrieval_chain\n",
    "from langchain.chains.combine_documents import create_stuff_documents_chain\n",
    "from urllib.parse import urlparse, urlunparse"
   ]
  },
  {
   "cell_type": "code",
   "execution_count": 9,
   "id": "45578b4e-53d3-4a8d-8ce1-d6fd1c9df433",
   "metadata": {},
   "outputs": [],
   "source": [
    "def format_url(url):\n",
    "    # Check if the URL has a scheme, if not, assume 'https' and prepend '//' for proper parsing\n",
    "    if not urlparse(url).scheme:\n",
    "        url = '//' + url\n",
    "\n",
    "    # Parse the URL\n",
    "    parsed_url = urlparse(url, scheme='https')\n",
    "\n",
    "    # Scheme handling: Ensure the scheme is 'https'\n",
    "    scheme = 'https'\n",
    "\n",
    "    # Netloc handling: Directly use the parsed netloc, avoiding adding 'www.' if not appropriate\n",
    "    netloc = parsed_url.netloc\n",
    "\n",
    "    # Special handling to avoid adding 'www.' to domains that are already subdomains or include 'www.'\n",
    "    if not netloc.startswith('www.') and netloc.count('.') == 1:\n",
    "        netloc = 'www.' + netloc\n",
    "\n",
    "    # Reconstruct the URL, ensuring only two slashes are used between the scheme and netloc\n",
    "    formatted_url = urlunparse((scheme, netloc, parsed_url.path, parsed_url.params, parsed_url.query, parsed_url.fragment))\n",
    "\n",
    "    return formatted_url"
   ]
  },
  {
   "cell_type": "code",
   "execution_count": 10,
   "id": "913ca794-d148-432b-b5c5-b88acc36a899",
   "metadata": {
    "editable": true,
    "slideshow": {
     "slide_type": ""
    },
    "tags": []
   },
   "outputs": [],
   "source": [
    "loader = WebBaseLoader(\"https://fundingservice.org.uk\")\n",
    "docs = loader.load()\n"
   ]
  },
  {
   "cell_type": "code",
   "execution_count": 18,
   "id": "d2313776-f929-45a3-8921-efa975dba920",
   "metadata": {},
   "outputs": [
    {
     "data": {
      "text/plain": [
       "14359"
      ]
     },
     "execution_count": 18,
     "metadata": {},
     "output_type": "execute_result"
    }
   ],
   "source": [
    "len(docs[0].page_content)"
   ]
  },
  {
   "cell_type": "code",
   "execution_count": 19,
   "id": "86223b5f-1700-424c-88ea-cd724e54759f",
   "metadata": {
    "editable": true,
    "slideshow": {
     "slide_type": ""
    },
    "tags": []
   },
   "outputs": [],
   "source": [
    "text_splitter = RecursiveCharacterTextSplitter()\n",
    "document_chunks = text_splitter.split_documents(docs)"
   ]
  },
  {
   "cell_type": "code",
   "execution_count": 22,
   "id": "8cda5770-5648-43ce-8b35-40ab4ba5b729",
   "metadata": {},
   "outputs": [
    {
     "name": "stdout",
     "output_type": "stream",
     "text": [
      "Note: you may need to restart the kernel to use updated packages.\n"
     ]
    }
   ],
   "source": [
    "%pip install --upgrade --quiet  gpt4all > /dev/null\n",
    "\n"
   ]
  },
  {
   "cell_type": "code",
   "execution_count": 23,
   "id": "4ecba412-4834-4f26-b5bc-ae5bea8008f6",
   "metadata": {
    "editable": true,
    "slideshow": {
     "slide_type": ""
    },
    "tags": []
   },
   "outputs": [
    {
     "name": "stderr",
     "output_type": "stream",
     "text": [
      "100%|████████████████████████████████████████████████████████████████████████████████████████████████████████████████████████████████| 45.9M/45.9M [00:01<00:00, 30.7MiB/s]\n"
     ]
    },
    {
     "name": "stdout",
     "output_type": "stream",
     "text": [
      "bert_load_from_file: gguf version     = 2\n",
      "bert_load_from_file: gguf alignment   = 32\n",
      "bert_load_from_file: gguf data offset = 695552\n",
      "bert_load_from_file: model name           = BERT\n",
      "bert_load_from_file: model architecture   = bert\n",
      "bert_load_from_file: model file type      = 1\n",
      "bert_load_from_file: bert tokenizer vocab = 30522\n"
     ]
    }
   ],
   "source": [
    "from langchain_community.embeddings import GPT4AllEmbeddings\n",
    "\n",
    "gpt4all_embd = GPT4AllEmbeddings()\n",
    "\n"
   ]
  },
  {
   "cell_type": "code",
   "execution_count": 25,
   "id": "a5258b7d-9b0b-4049-9484-fc05fa537983",
   "metadata": {},
   "outputs": [],
   "source": [
    "text = \"This is a test document.\"\n",
    "\n",
    "query_result = gpt4all_embd.embed_query(text)\n",
    "\n"
   ]
  },
  {
   "cell_type": "code",
   "execution_count": 44,
   "id": "d90efc31-e331-42e5-9aaf-d81bdf2e19f9",
   "metadata": {
    "editable": true,
    "slideshow": {
     "slide_type": ""
    },
    "tags": []
   },
   "outputs": [],
   "source": [
    "from langchain.text_splitter import CharacterTextSplitter, RecursiveCharacterTextSplitter\n",
    "from langchain.vectorstores import DocArrayInMemorySearch\n",
    "from langchain.document_loaders import TextLoader\n",
    "from langchain.chains import RetrievalQA,  ConversationalRetrievalChain\n",
    "from langchain.memory import ConversationBufferMemory\n",
    "from langchain.chat_models import ChatOpenAI\n",
    "from langchain.document_loaders import TextLoader\n",
    "from langchain.document_loaders import PyPDFLoader"
   ]
  },
  {
   "cell_type": "code",
   "execution_count": 46,
   "id": "44402725-9405-495f-868f-ba24f0935732",
   "metadata": {
    "editable": true,
    "slideshow": {
     "slide_type": ""
    },
    "tags": []
   },
   "outputs": [],
   "source": [
    "vector_store = Chroma.from_documents(document_chunks, gpt4all_embd)"
   ]
  },
  {
   "cell_type": "code",
   "execution_count": 47,
   "id": "8b10f888-4cc7-4f72-9ee2-4b2c597b78f7",
   "metadata": {
    "editable": true,
    "slideshow": {
     "slide_type": ""
    },
    "tags": []
   },
   "outputs": [],
   "source": [
    "llm = Ollama(model=\"mistral\")"
   ]
  },
  {
   "cell_type": "code",
   "execution_count": 48,
   "id": "f676f845-716d-43d4-b2d0-8bf6aaeb8700",
   "metadata": {
    "editable": true,
    "slideshow": {
     "slide_type": ""
    },
    "tags": []
   },
   "outputs": [],
   "source": [
    "retriever = vector_store.as_retriever()\n",
    "\n",
    "prompt = ChatPromptTemplate.from_messages([\n",
    "        MessagesPlaceholder(variable_name=\"chat_history\"),\n",
    "        (\"user\", \"{input}\"),\n",
    "        (\"user\", \"Given the above conversation, generate a search query to look up in order to get information relevant to the conversation\")\n",
    "    ])\n",
    "\n",
    "retriever_chain = create_history_aware_retriever(llm, retriever, prompt)"
   ]
  },
  {
   "cell_type": "code",
   "execution_count": 49,
   "id": "3fbb1e52-c6f5-4a22-8f76-056fccf83c7c",
   "metadata": {
    "editable": true,
    "slideshow": {
     "slide_type": ""
    },
    "tags": []
   },
   "outputs": [],
   "source": [
    "prompt = ChatPromptTemplate.from_messages([\n",
    "        (\"system\", \"Answer the user's questions based on the below context: \\n\\n{context}\"),\n",
    "        MessagesPlaceholder(variable_name=\"chat_history\"),\n",
    "        (\"user\", \"{input}\"),\n",
    "    ])\n",
    "stuff_documents_chain = create_stuff_documents_chain(llm, prompt)"
   ]
  },
  {
   "cell_type": "code",
   "execution_count": 50,
   "id": "ff8618d0-a065-4679-ab45-674a065ae52d",
   "metadata": {
    "editable": true,
    "slideshow": {
     "slide_type": ""
    },
    "tags": []
   },
   "outputs": [],
   "source": [
    "conversation_rag_chain = create_retrieval_chain(retriever_chain, stuff_documents_chain)"
   ]
  },
  {
   "cell_type": "code",
   "execution_count": 56,
   "id": "6eac1f43-91f5-4690-b93c-34538db199fa",
   "metadata": {
    "editable": true,
    "slideshow": {
     "slide_type": ""
    },
    "tags": []
   },
   "outputs": [],
   "source": [
    "hist=[\"This is chat history\"]"
   ]
  },
  {
   "cell_type": "code",
   "execution_count": 53,
   "id": "a514ea51-a283-4c2a-b7ec-50a6ef192471",
   "metadata": {},
   "outputs": [],
   "source": [
    "response = conversation_rag_chain.invoke({\n",
    "        \"chat_history\": hist,\n",
    "        \"input\": \"What is this website about?\"\n",
    "    })"
   ]
  },
  {
   "cell_type": "code",
   "execution_count": 54,
   "id": "6b32faea-c5ac-480b-8756-99642c1e8d7a",
   "metadata": {},
   "outputs": [
    {
     "name": "stdout",
     "output_type": "stream",
     "text": [
      " This website appears to be for Energy Funding Service, which is a UK-based organization that helps households access Government Grants to reduce their carbon footprint by installing energy efficient measures such as boilers, solar panels, heat pumps, insulation measures, and IWI. The service assesses the property's eligibility and manages the installation process, with funding available for properties with low energy ratings or high-cost heating. The organization works in partnership with Improveasy and 0800 Repair who are authorized installers for Greater Manchester Combined Authority. They claim that the average property receives between £6,000 – £10,000 in free funding. To check eligibility and apply for funding, individuals can contact them on 0300 302 0221.\n"
     ]
    }
   ],
   "source": [
    "print(response['answer'])"
   ]
  },
  {
   "cell_type": "code",
   "execution_count": 87,
   "id": "8e9a921a-04d0-483b-9627-56cd77586a5c",
   "metadata": {},
   "outputs": [
    {
     "name": "stdout",
     "output_type": "stream",
     "text": [
      " Of using Energy Funding Service to access government grants for energy efficiency improvements? Here are some key benefits:\n",
      "\n",
      "1. **Cost Savings:** By improving the energy efficiency of your home, you can save money on your energy bills. The specific savings will depend on the measures installed and the size and usage of your property.\n",
      "2. **Reduced Carbon Emissions:** Energy Funding Service helps reduce carbon emissions by installing energy-efficient measures that use less energy or renewable energy sources. This not only benefits the environment but also contributes to meeting national targets for reducing greenhouse gas emissions.\n",
      "3. **Free Installation and Funding:** Energy Funding Service assesses, qualifies, and installs eligible energy efficiency measures free of charge, using government grants to cover the costs. There is typically no need for a contribution from the property owner.\n",
      "4. **Wide Range of Measures:** The range of energy efficiency measures available through Energy Funding Service includes insulation, heating systems, solar panels, and more. Depending on your property's eligibility, you could receive funding for several measures to maximize savings and improve overall energy efficiency.\n",
      "5. **Expert Support and Advice:** Energy Funding Service provides expert advice on the grant schemes and the installation process. The team will guide you through the application process and help ensure that the measures installed are appropriate for your property and meet the requirements of the relevant government scheme.\n",
      "6. **Partnership with Trusted Installers:** Energy Funding Service works in partnership with trusted installers who have been approved by the Greater Manchester Combined Authority. This means that you can be confident that the installation will be carried out to a high standard, and the work comes with a warranty for peace of mind.\n",
      "7. **Reducing Dependence on Fossil Fuels:** By installing renewable energy sources like solar panels or heat pumps, you can reduce your dependence on fossil fuels and move towards more sustainable energy sources. This not only benefits the environment but also offers long-term cost savings as energy prices continue to rise.\n",
      "8. **Contribution to a Sustainable Future:** By taking advantage of government grants and improving your property's energy efficiency, you're contributing to a more sustainable future for yourself and future generations. It’s a simple way to make a positive impact on the environment while also enjoying cost savings and a more comfortable living space.\n",
      "9. **Eligibility Check:** Energy Funding Service offers a free eligibility check to determine if your property is eligible for grant funding. This assessment takes into account factors like your location, property size, heating system, insulation levels, and more. The results will help you understand the potential savings and improvements that could be made to your property.\n"
     ]
    }
   ],
   "source": [
    "response = conversation_rag_chain.invoke({\n",
    "        \"chat_history\": hist,\n",
    "        \"input\": \"tell me key benfits\"\n",
    "    })\n",
    "print(response['answer'])"
   ]
  },
  {
   "cell_type": "code",
   "execution_count": null,
   "id": "5d5f6ed4-8eb9-4450-b156-4f8f7466b9f3",
   "metadata": {},
   "outputs": [],
   "source": [
    "# def return_rag_chain(hist,):\n",
    "    "
   ]
  },
  {
   "cell_type": "code",
   "execution_count": 94,
   "id": "79ff039b-00cd-47a7-8974-5adcccb7f4a6",
   "metadata": {},
   "outputs": [],
   "source": [
    "import panel as pn\n",
    "import param\n",
    "def load_db(file, chain_type, k):\n",
    "    return conversation_rag_chain\n",
    "class cbfs(param.Parameterized):\n",
    "    chat_history = param.List([])\n",
    "    answer = param.String(\"\")\n",
    "    db_query  = param.String(\"\")\n",
    "    db_response = param.List([])\n",
    "    \n",
    "    def __init__(self,  **params):\n",
    "        super(cbfs, self).__init__( **params)\n",
    "        self.panels = []\n",
    "        self.loaded_file = \"data from website\"\n",
    "        self.qa = load_db(self.loaded_file,\"stuff\", 4)\n",
    "\n",
    "\n",
    "    def convo():\n",
    "        pass\n",
    "    def call_load_db(self, count):\n",
    "        if count == 0 or file_input.value is None:  # init or no file specified :\n",
    "            return pn.pane.Markdown(f\"Loaded: {self.loaded_file}\")\n",
    "        else:\n",
    "            file_input.save(\"temp.pdf\")  # local copy\n",
    "            self.loaded_file = file_input.filename\n",
    "            button_load.button_style=\"outline\"\n",
    "            self.qa = load_db(\"temp.pdf\", \"stuff\", 4)\n",
    "            button_load.button_style=\"solid\"\n",
    "        self.clr_history()\n",
    "        return pn.pane.Markdown(f\"Loaded File: {self.loaded_file}\")\n",
    "\n",
    "    def convchain(self, query):\n",
    "        print(\"function called\", query)\n",
    "        if not query:\n",
    "            print('here')\n",
    "            return pn.WidgetBox(pn.Row('User:', pn.pane.Markdown(\"\", width=600)), scroll=True)\n",
    "        result = self.qa({\"input\": query, \"chat_history\": hist})\n",
    "        self.chat_history.extend([(query, result[\"answer\"])])\n",
    "        # self.db_query = result[\"generated_question\"]\n",
    "        # self.db_response = result[\"source_documents\"]\n",
    "        self.answer = result['answer'] \n",
    "        print(\"result\",self.answer )\n",
    "        self.panels.extend([\n",
    "            pn.Row('User:', pn.pane.Markdown(query, width=600)),\n",
    "            pn.Row('ChatBot:', pn.pane.Markdown(self.answer, width=600, style={'background-color': '#F6F6F6'}))\n",
    "        ])\n",
    "        inp.value = ''  #clears loading indicator when cleared\n",
    "        return pn.WidgetBox(*self.panels,scroll=True)\n",
    "\n",
    "    @param.depends('db_query ', )\n",
    "    def get_lquest(self):\n",
    "        if not self.db_query :\n",
    "            return pn.Column(\n",
    "                pn.Row(pn.pane.Markdown(f\"Last question to DB:\", styles={'background-color': '#F6F6F6'})),\n",
    "                pn.Row(pn.pane.Str(\"no DB accesses so far\"))\n",
    "            )\n",
    "        return pn.Column(\n",
    "            pn.Row(pn.pane.Markdown(f\"DB query:\", styles={'background-color': '#F6F6F6'})),\n",
    "            pn.pane.Str(self.db_query )\n",
    "        )\n",
    "\n",
    "    @param.depends('db_response', )\n",
    "    def get_sources(self):\n",
    "        if not self.db_response:\n",
    "            return \n",
    "        rlist=[pn.Row(pn.pane.Markdown(f\"Result of DB lookup:\", styles={'background-color': '#F6F6F6'}))]\n",
    "        for doc in self.db_response:\n",
    "            rlist.append(pn.Row(pn.pane.Str(doc)))\n",
    "        return pn.WidgetBox(*rlist, width=600, scroll=True)\n",
    "\n",
    "    @param.depends('convchain', 'clr_history') \n",
    "    def get_chats(self):\n",
    "        print(\"This is called\")\n",
    "        if not self.chat_history:\n",
    "            return pn.WidgetBox(pn.Row(pn.pane.Str(\"No History Yet\")), width=600, scroll=True)\n",
    "        rlist=[pn.Row(pn.pane.Markdown(f\"Current Chat History variable\", styles={'background-color': '#F6F6F6'}))]\n",
    "        for exchange in self.chat_history:\n",
    "            rlist.append(pn.Row(pn.pane.Str(exchange)))\n",
    "        return pn.WidgetBox(*rlist, width=600, scroll=True)\n",
    "\n",
    "    def clr_history(self,count=0):\n",
    "        self.chat_history = []\n",
    "        return "
   ]
  },
  {
   "cell_type": "code",
   "execution_count": 95,
   "id": "55b1d9d8-bed6-4b72-ba5b-b1c5079d33a9",
   "metadata": {},
   "outputs": [],
   "source": [
    "# pn.extension()"
   ]
  },
  {
   "cell_type": "code",
   "execution_count": 99,
   "id": "1b382055-af2c-417e-aa6e-8a14050c7321",
   "metadata": {
    "editable": true,
    "slideshow": {
     "slide_type": ""
    },
    "tags": []
   },
   "outputs": [],
   "source": [
    "# cb = cbfs()\n",
    "\n",
    "# file_input = pn.widgets.FileInput(accept='.pdf')\n",
    "# button_load = pn.widgets.Button(name=\"Load DB\", button_type='primary')\n",
    "# button_clearhistory = pn.widgets.Button(name=\"Clear History\", button_type='warning')\n",
    "# button_clearhistory.on_click(cb.clr_history)\n",
    "# inp = pn.widgets.TextInput( placeholder='How Can I help you?')\n",
    "\n",
    "# bound_button_load = pn.bind(cb.call_load_db, button_load.param.clicks)\n",
    "# conversation = pn.bind(cb.convchain, inp) \n",
    "\n",
    "# enter_button = pn.widgets.Button(name=\"Enter\", button_type='primary')\n",
    "# bound_button_load = pn.bind(cb.convo, enter_button.param.clicks)\n",
    "\n",
    "# jpg_pane = pn.pane.Image( './img/convchain.jpg')\n",
    "\n",
    "# # tab0 = pn.Column(\n",
    "# #     pn.Row(  button_load, bound_button_load),\n",
    "# # )\n",
    "\n",
    "# tab1 = pn.Column(\n",
    "#     # pn.Row(button_load),\n",
    "#     pn.Row(inp),\n",
    "#     pn.layout.Divider(),\n",
    "#     pn.panel(conversation,  loading_indicator=True, height=300),\n",
    "#     pn.layout.Divider(),\n",
    "# )\n",
    "# # tab2= pn.Column(\n",
    "# #     pn.panel(cb.get_lquest),\n",
    "# #     pn.layout.Divider(),\n",
    "# #     pn.panel(cb.get_sources ),\n",
    "# # )\n",
    "# # tab3= pn.Column(\n",
    "# #     pn.panel(cb.get_chats),\n",
    "# #     pn.layout.Divider(),\n",
    "# # )\n",
    "# # tab4=pn.Column(\n",
    "# #     pn.Row( file_input, button_load, bound_button_load),\n",
    "# #     pn.Row( button_clearhistory, pn.pane.Markdown(\"Clears chat history. Can use to start a new topic\" )),\n",
    "# #     pn.layout.Divider(),\n",
    "# #     pn.Row(jpg_pane.clone(width=400))\n",
    "# # )\n",
    "# dashboard = pn.Column(\n",
    "#     pn.Row(pn.pane.Markdown('# Energy Funding Service Chatbot')),\n",
    "#     pn.Tabs(('Conversation', tab1))\n",
    "# )\n",
    "# dashboard"
   ]
  },
  {
   "cell_type": "code",
   "execution_count": 115,
   "id": "d7ca581f-eef2-4279-bcfb-624143bfb54a",
   "metadata": {},
   "outputs": [],
   "source": [
    "# import panel as pn\n",
    "# import time\n",
    "\n",
    "# # Define function to get response from conversation_rag_chain\n",
    "# def get_response(input_text):\n",
    "#     hist = []\n",
    "#     response = conversation_rag_chain.invoke({\n",
    "#         \"chat_history\": hist,\n",
    "#         \"input\": input_text\n",
    "#     })\n",
    "#     return response['answer']\n",
    "\n",
    "# # Create input text box and button for UI\n",
    "# input_text = pn.widgets.TextInput(value='How can I help you?')\n",
    "# button = pn.widgets.Button(name='Enter')\n",
    "\n",
    "# # Create output text box for UI\n",
    "# output_text = pn.widgets.TextAreaInput(value='', styles={'width': '600', 'height': '100px'})\n",
    "\n",
    "# # Create loading spinner for UI\n",
    "# loader = pn.widgets.Spinner()\n",
    "\n",
    "# # Define function to update output text when button is clicked\n",
    "# def update_output(event):\n",
    "#     # Show loading spinner while bot is running\n",
    "#     loader.visible = True\n",
    "\n",
    "#     # Get user input and response from bot\n",
    "#     user_input = input_text.value\n",
    "#     bot_response = get_response(user_input)\n",
    "\n",
    "#     # Update output text box with bot response\n",
    "#     output_text.value = bot_response\n",
    "\n",
    "#     # Hide loading spinner\n",
    "#     loader.visible = False\n",
    "\n",
    "# # Attach function to button click event\n",
    "# button.on_click(update_output)\n",
    "\n",
    "# # Create panel layout with input, button, output, and loader widgets\n",
    "# panel = pn.Column(\n",
    "#     pn.Row(pn.pane.Markdown('# Energy Funding Service Chatbot')),\n",
    "#     pn.layout.Divider(),\n",
    "#     # pn.Tabs(('Conversation')),\n",
    "#     pn.Row(input_text, button),\n",
    "#     # pn.Row(loader),\n",
    "#     pn.Row(output_text, styles={'margin-top': '10px','width' : '600'}),\n",
    "#     pn.layout.Divider()\n",
    "# )\n",
    "\n",
    "# # Set panel layout style\n",
    "# panel.style = {\n",
    "#     'background-color': '#f5f5f5',\n",
    "#     'padding': '20px',\n",
    "#     'border-radius': '5px',\n",
    "#     'box-shadow': '0px 0px 10px rgba(0, 0, 0, 0.1)'\n",
    "# }\n",
    "\n",
    "# # Show panel in Jupyter notebook or app\n",
    "# panel"
   ]
  },
  {
   "cell_type": "code",
   "execution_count": 117,
   "id": "43ceccfa-2892-48fa-a24a-01b11bc42a61",
   "metadata": {
    "editable": true,
    "slideshow": {
     "slide_type": ""
    },
    "tags": []
   },
   "outputs": [],
   "source": [
    "from typing import List\n",
    "from fastapi import FastAPI\n",
    "from langchain.llms import Ollama\n",
    "from langchain.output_parsers import CommaSeparatedListOutputParser\n",
    "from langchain.prompts import PromptTemplate\n",
    "from langserve import add_routes\n",
    "import uvicorn"
   ]
  },
  {
   "cell_type": "code",
   "execution_count": 128,
   "id": "f3edd944-027d-4430-866a-502fe2a0034a",
   "metadata": {
    "editable": true,
    "slideshow": {
     "slide_type": ""
    },
    "tags": []
   },
   "outputs": [],
   "source": [
    "\n",
    "chain = ConversationalRetrievalChain.from_llm(llm, retriever)\n"
   ]
  },
  {
   "cell_type": "code",
   "execution_count": 129,
   "id": "e5ce7ff2-3ac8-4b6e-9c71-6597f77f5667",
   "metadata": {},
   "outputs": [],
   "source": [
    "from langchain.schema.output_parser import StrOutputParser"
   ]
  },
  {
   "cell_type": "code",
   "execution_count": 124,
   "id": "3c0ed363-6e61-4191-be2d-720af96c32d2",
   "metadata": {
    "editable": true,
    "slideshow": {
     "slide_type": ""
    },
    "tags": []
   },
   "outputs": [
    {
     "ename": "RuntimeError",
     "evalue": "asyncio.run() cannot be called from a running event loop",
     "output_type": "error",
     "traceback": [
      "\u001b[0;31m---------------------------------------------------------------------------\u001b[0m",
      "\u001b[0;31mRuntimeError\u001b[0m                              Traceback (most recent call last)",
      "Cell \u001b[0;32mIn[124], line 4\u001b[0m\n\u001b[1;32m      1\u001b[0m app \u001b[38;5;241m=\u001b[39m FastAPI(title\u001b[38;5;241m=\u001b[39m\u001b[38;5;124m\"\u001b[39m\u001b[38;5;124mLangChain\u001b[39m\u001b[38;5;124m\"\u001b[39m, version\u001b[38;5;241m=\u001b[39m\u001b[38;5;124m\"\u001b[39m\u001b[38;5;124m1.0\u001b[39m\u001b[38;5;124m\"\u001b[39m, description\u001b[38;5;241m=\u001b[39m\u001b[38;5;124m\"\u001b[39m\u001b[38;5;124mThe first server ever!\u001b[39m\u001b[38;5;124m\"\u001b[39m)\n\u001b[1;32m      3\u001b[0m add_routes(app, conversation_rag_chain, path\u001b[38;5;241m=\u001b[39m\u001b[38;5;124m\"\u001b[39m\u001b[38;5;124m/invoke\u001b[39m\u001b[38;5;124m\"\u001b[39m)\n\u001b[0;32m----> 4\u001b[0m \u001b[43muvicorn\u001b[49m\u001b[38;5;241;43m.\u001b[39;49m\u001b[43mrun\u001b[49m\u001b[43m(\u001b[49m\u001b[43mapp\u001b[49m\u001b[43m,\u001b[49m\u001b[43m \u001b[49m\u001b[43mhost\u001b[49m\u001b[38;5;241;43m=\u001b[39;49m\u001b[38;5;124;43m\"\u001b[39;49m\u001b[38;5;124;43mlocalhost\u001b[39;49m\u001b[38;5;124;43m\"\u001b[39;49m\u001b[43m,\u001b[49m\u001b[43m \u001b[49m\u001b[43mport\u001b[49m\u001b[38;5;241;43m=\u001b[39;49m\u001b[38;5;241;43m8000\u001b[39;49m\u001b[43m)\u001b[49m\n",
      "File \u001b[0;32m~/Developer/fun/fun/lib/python3.11/site-packages/uvicorn/main.py:587\u001b[0m, in \u001b[0;36mrun\u001b[0;34m(app, host, port, uds, fd, loop, http, ws, ws_max_size, ws_max_queue, ws_ping_interval, ws_ping_timeout, ws_per_message_deflate, lifespan, interface, reload, reload_dirs, reload_includes, reload_excludes, reload_delay, workers, env_file, log_config, log_level, access_log, proxy_headers, server_header, date_header, forwarded_allow_ips, root_path, limit_concurrency, backlog, limit_max_requests, timeout_keep_alive, timeout_graceful_shutdown, ssl_keyfile, ssl_certfile, ssl_keyfile_password, ssl_version, ssl_cert_reqs, ssl_ca_certs, ssl_ciphers, headers, use_colors, app_dir, factory, h11_max_incomplete_event_size)\u001b[0m\n\u001b[1;32m    585\u001b[0m     Multiprocess(config, target\u001b[38;5;241m=\u001b[39mserver\u001b[38;5;241m.\u001b[39mrun, sockets\u001b[38;5;241m=\u001b[39m[sock])\u001b[38;5;241m.\u001b[39mrun()\n\u001b[1;32m    586\u001b[0m \u001b[38;5;28;01melse\u001b[39;00m:\n\u001b[0;32m--> 587\u001b[0m     \u001b[43mserver\u001b[49m\u001b[38;5;241;43m.\u001b[39;49m\u001b[43mrun\u001b[49m\u001b[43m(\u001b[49m\u001b[43m)\u001b[49m\n\u001b[1;32m    588\u001b[0m \u001b[38;5;28;01mif\u001b[39;00m config\u001b[38;5;241m.\u001b[39muds \u001b[38;5;129;01mand\u001b[39;00m os\u001b[38;5;241m.\u001b[39mpath\u001b[38;5;241m.\u001b[39mexists(config\u001b[38;5;241m.\u001b[39muds):\n\u001b[1;32m    589\u001b[0m     os\u001b[38;5;241m.\u001b[39mremove(config\u001b[38;5;241m.\u001b[39muds)  \u001b[38;5;66;03m# pragma: py-win32\u001b[39;00m\n",
      "File \u001b[0;32m~/Developer/fun/fun/lib/python3.11/site-packages/uvicorn/server.py:62\u001b[0m, in \u001b[0;36mServer.run\u001b[0;34m(self, sockets)\u001b[0m\n\u001b[1;32m     60\u001b[0m \u001b[38;5;28;01mdef\u001b[39;00m \u001b[38;5;21mrun\u001b[39m(\u001b[38;5;28mself\u001b[39m, sockets: \u001b[38;5;28mlist\u001b[39m[socket\u001b[38;5;241m.\u001b[39msocket] \u001b[38;5;241m|\u001b[39m \u001b[38;5;28;01mNone\u001b[39;00m \u001b[38;5;241m=\u001b[39m \u001b[38;5;28;01mNone\u001b[39;00m) \u001b[38;5;241m-\u001b[39m\u001b[38;5;241m>\u001b[39m \u001b[38;5;28;01mNone\u001b[39;00m:\n\u001b[1;32m     61\u001b[0m     \u001b[38;5;28mself\u001b[39m\u001b[38;5;241m.\u001b[39mconfig\u001b[38;5;241m.\u001b[39msetup_event_loop()\n\u001b[0;32m---> 62\u001b[0m     \u001b[38;5;28;01mreturn\u001b[39;00m \u001b[43masyncio\u001b[49m\u001b[38;5;241;43m.\u001b[39;49m\u001b[43mrun\u001b[49m\u001b[43m(\u001b[49m\u001b[38;5;28;43mself\u001b[39;49m\u001b[38;5;241;43m.\u001b[39;49m\u001b[43mserve\u001b[49m\u001b[43m(\u001b[49m\u001b[43msockets\u001b[49m\u001b[38;5;241;43m=\u001b[39;49m\u001b[43msockets\u001b[49m\u001b[43m)\u001b[49m\u001b[43m)\u001b[49m\n",
      "File \u001b[0;32m/opt/homebrew/Cellar/python@3.11/3.11.4_1/Frameworks/Python.framework/Versions/3.11/lib/python3.11/asyncio/runners.py:186\u001b[0m, in \u001b[0;36mrun\u001b[0;34m(main, debug)\u001b[0m\n\u001b[1;32m    161\u001b[0m \u001b[38;5;250m\u001b[39m\u001b[38;5;124;03m\"\"\"Execute the coroutine and return the result.\u001b[39;00m\n\u001b[1;32m    162\u001b[0m \n\u001b[1;32m    163\u001b[0m \u001b[38;5;124;03mThis function runs the passed coroutine, taking care of\u001b[39;00m\n\u001b[0;32m   (...)\u001b[0m\n\u001b[1;32m    182\u001b[0m \u001b[38;5;124;03m    asyncio.run(main())\u001b[39;00m\n\u001b[1;32m    183\u001b[0m \u001b[38;5;124;03m\"\"\"\u001b[39;00m\n\u001b[1;32m    184\u001b[0m \u001b[38;5;28;01mif\u001b[39;00m events\u001b[38;5;241m.\u001b[39m_get_running_loop() \u001b[38;5;129;01mis\u001b[39;00m \u001b[38;5;129;01mnot\u001b[39;00m \u001b[38;5;28;01mNone\u001b[39;00m:\n\u001b[1;32m    185\u001b[0m     \u001b[38;5;66;03m# fail fast with short traceback\u001b[39;00m\n\u001b[0;32m--> 186\u001b[0m     \u001b[38;5;28;01mraise\u001b[39;00m \u001b[38;5;167;01mRuntimeError\u001b[39;00m(\n\u001b[1;32m    187\u001b[0m         \u001b[38;5;124m\"\u001b[39m\u001b[38;5;124masyncio.run() cannot be called from a running event loop\u001b[39m\u001b[38;5;124m\"\u001b[39m)\n\u001b[1;32m    189\u001b[0m \u001b[38;5;28;01mwith\u001b[39;00m Runner(debug\u001b[38;5;241m=\u001b[39mdebug) \u001b[38;5;28;01mas\u001b[39;00m runner:\n\u001b[1;32m    190\u001b[0m     \u001b[38;5;28;01mreturn\u001b[39;00m runner\u001b[38;5;241m.\u001b[39mrun(main)\n",
      "\u001b[0;31mRuntimeError\u001b[0m: asyncio.run() cannot be called from a running event loop"
     ]
    }
   ],
   "source": [
    "app = FastAPI(title=\"LangChain\", version=\"1.0\", description=\"The first server ever!\")\n",
    "\n",
    "add_routes(app, conversation_rag_chain, path=\"/invoke\")\n",
    "uvicorn.run(app, host=\"localhost\", port=8000)\n"
   ]
  },
  {
   "cell_type": "code",
   "execution_count": null,
   "id": "fcf23980-0635-47ce-bb91-e3c47695e5b8",
   "metadata": {},
   "outputs": [],
   "source": []
  }
 ],
 "metadata": {
  "kernelspec": {
   "display_name": "Python 3 (ipykernel)",
   "language": "python",
   "name": "python3"
  },
  "language_info": {
   "codemirror_mode": {
    "name": "ipython",
    "version": 3
   },
   "file_extension": ".py",
   "mimetype": "text/x-python",
   "name": "python",
   "nbconvert_exporter": "python",
   "pygments_lexer": "ipython3",
   "version": "3.11.4"
  }
 },
 "nbformat": 4,
 "nbformat_minor": 5
}
