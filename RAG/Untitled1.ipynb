{
 "cells": [
  {
   "cell_type": "code",
   "execution_count": null,
   "id": "b0605e77-9327-4354-8266-73b346e20cd1",
   "metadata": {},
   "outputs": [],
   "source": []
  },
  {
   "cell_type": "code",
   "execution_count": 2,
   "id": "1ceebb2f-5638-41ae-a894-739d057b68be",
   "metadata": {},
   "outputs": [
    {
     "name": "stdout",
     "output_type": "stream",
     "text": [
      "n - 2^2\n",
      "n - 2^1\n",
      "n - 2^0\n"
     ]
    }
   ],
   "source": [
    "# Define function to reduce n to 0 using two operations\n",
    "def reduce_to_zero(n):\n",
    "    # Initialize empty list for operations\n",
    "    ops = []\n",
    "\n",
    "    # While n is not equal to 0\n",
    "    while n != 0:\n",
    "        # Find the largest power of 2 less than or equal to n\n",
    "        i = 0\n",
    "        while 2**i <= abs(n):\n",
    "            i += 1\n",
    "        i -= 1\n",
    "\n",
    "        # If n is positive, subtract 2^i\n",
    "        if n > 0:\n",
    "            n -= 2**i\n",
    "            ops.append(f\"n - 2^{i}\")\n",
    "        # If n is negative, add 2^i\n",
    "        else:\n",
    "            n += 2**i\n",
    "            ops.append(f\"n + 2^{i}\")\n",
    "\n",
    "    # Return the list of operations\n",
    "    return ops\n",
    "\n",
    "# Test the function with a given number\n",
    "n = 7\n",
    "ops = reduce_to_zero(n)\n",
    "print(\"\\n\".join(ops))\n",
    "# Not a good code"
   ]
  },
  {
   "cell_type": "code",
   "execution_count": 3,
   "id": "c24d6483-ac11-43a7-bf64-ff1588544f49",
   "metadata": {},
   "outputs": [
    {
     "name": "stdout",
     "output_type": "stream",
     "text": [
      "n + 2^2\n",
      "n + 2^1\n",
      "n + 2^0\n"
     ]
    }
   ],
   "source": [
    "# Define function to reduce n to 0 using two operations\n",
    "def reduce_to_zero(n):\n",
    "    # Initialize list of minimum operations for each number from 0 to n\n",
    "    min_ops = [float(\"inf\")] * (n+1)\n",
    "    min_ops[0] = 0 # Base case: 0 operations needed to reduce 0 to 0\n",
    "\n",
    "    # Loop through numbers from 1 to n\n",
    "    for i in range(1, n+1):\n",
    "        # Loop through powers of 2 from 0 to log2(i)\n",
    "        j = 0\n",
    "        while 2**j <= i:\n",
    "            # Check if adding or subtracting 2^j gives a smaller number of operations\n",
    "            min_ops[i] = min(min_ops[i], min_ops[i - 2**j] + 1)\n",
    "            j += 1\n",
    "\n",
    "    # Initialize empty list for operations\n",
    "    ops = []\n",
    "\n",
    "    # While n is not equal to 0\n",
    "    while n != 0:\n",
    "        # Find the largest power of 2 less than or equal to n that gives the minimum number of operations\n",
    "        i = 0\n",
    "        while 2**i <= abs(n):\n",
    "            i += 1\n",
    "        i -= 1\n",
    "\n",
    "        # If adding 2^i gives the minimum number of operations, add it\n",
    "        if min_ops[n] == min_ops[n - 2**i] + 1:\n",
    "            n -= 2**i\n",
    "            ops.append(f\"n + 2^{i}\")\n",
    "        # If subtracting 2^i gives the minimum number of operations, subtract it\n",
    "        else:\n",
    "            n += 2**i\n",
    "            ops.append(f\"n - 2^{i}\")\n",
    "\n",
    "    # Return the list of operations\n",
    "    return ops\n",
    "\n",
    "# Test the function with a given number\n",
    "n = 7\n",
    "ops = reduce_to_zero(n)\n",
    "print(\"\\n\".join(ops))\n"
   ]
  },
  {
   "cell_type": "code",
   "execution_count": 6,
   "id": "212a28cd-1e31-4193-9a00-9ceab30322d2",
   "metadata": {},
   "outputs": [
    {
     "name": "stdout",
     "output_type": "stream",
     "text": [
      "12\n"
     ]
    }
   ],
   "source": [
    "def reduce_to_zero(n):\n",
    "    count = 0\n",
    "    while n != 0:\n",
    "        if (n & (n - 1)) == 0:  # Check if n is a power of 2\n",
    "            n -= n  # Subtract the largest possible power of 2\n",
    "        else:\n",
    "            n += 1  # Add the smallest possible power of 2 (2^0)\n",
    "        count += 1\n",
    "    return count\n",
    "\n",
    "print(reduce_to_zero(21))"
   ]
  },
  {
   "cell_type": "code",
   "execution_count": 11,
   "id": "2f7e15e1-183b-4ddf-9f0f-24266a343992",
   "metadata": {},
   "outputs": [
    {
     "name": "stdout",
     "output_type": "stream",
     "text": [
      "8\n",
      "16\n",
      "16\n",
      "32\n",
      "32\n"
     ]
    }
   ],
   "source": [
    "def nearest_power_of_two(n):\n",
    "    if n == 1:\n",
    "        return 1\n",
    "    power = 0\n",
    "    while (1 << power) < n:\n",
    "        power += 1\n",
    "    if (1 << power) == n:\n",
    "        return 1 << power\n",
    "    elif (1 << power) - n < n - (1 << (power - 1)):\n",
    "        return 1 << power\n",
    "    else:\n",
    "        return 1 << (power - 1)\n",
    "\n",
    "# Test the function\n",
    "print(nearest_power_of_two(10))  # Output: 8\n",
    "print(nearest_power_of_two(16))  # Output: 16\n",
    "print(nearest_power_of_two(20))  # Output: 16\n",
    "print(nearest_power_of_two(32))  # Output: 32\n",
    "print(nearest_power_of_two(33))  # Output: 32\n"
   ]
  },
  {
   "cell_type": "code",
   "execution_count": 13,
   "id": "0ee13ebe-277a-4273-af67-6c9123b4005a",
   "metadata": {},
   "outputs": [
    {
     "name": "stdout",
     "output_type": "stream",
     "text": [
      "(8, 16)\n",
      "(16, 8)\n",
      "(16, 32)\n",
      "(32, 16)\n",
      "(32, 64)\n"
     ]
    }
   ],
   "source": [
    "def nearest_powers_of_two(n):\n",
    "    if n == 1:\n",
    "        return (1, 2)\n",
    "    power = 0\n",
    "    while (1 << power) < n:\n",
    "        power += 1\n",
    "    lower_power = 1 << (power - 1)\n",
    "    upper_power = 1 << power\n",
    "    if n - lower_power < upper_power - n:\n",
    "        return (lower_power, upper_power)\n",
    "    else:\n",
    "        return (upper_power, lower_power)\n",
    "\n",
    "# Test the function\n",
    "print(nearest_powers_of_two(10))  # Output: (8, 16)\n",
    "print(nearest_powers_of_two(16))  # Output: (16, 16)\n",
    "print(nearest_powers_of_two(21))  # Output: (16, 32)\n",
    "print(nearest_powers_of_two(32))  # Output: (32, 32)\n",
    "print(nearest_powers_of_two(33))  # Output: (32, 64)\n"
   ]
  },
  {
   "cell_type": "code",
   "execution_count": 15,
   "id": "5023bdec-241b-4b2e-bab3-69ab7243428c",
   "metadata": {},
   "outputs": [
    {
     "name": "stdout",
     "output_type": "stream",
     "text": [
      "3\n"
     ]
    }
   ],
   "source": [
    "from collections import deque \n",
    "\n",
    "def minOperations( n: int) -> int:\n",
    "        q =  deque( [n] )\n",
    "        seen = set( [n] )\n",
    "        res = -1\n",
    "        \n",
    "        while q:\n",
    "            res += 1\n",
    "            for _ in range(len(q)):\n",
    "                cur = q.popleft()\n",
    "                \n",
    "                if cur == 0:\n",
    "                    return res\n",
    "                \n",
    "                for i in range(17):\n",
    "                    t = 1 << i\n",
    "                    \n",
    "                    if cur + t <= 2 ** 17 and cur + t not in seen:\n",
    "                        q.append(cur + t)\n",
    "                        seen.add(cur + t)\n",
    "                    if cur - t >= -(2 ** 17) and cur - t not in seen:\n",
    "                        q.append(cur - t)\n",
    "                        seen.add(cur - t)\n",
    "\n",
    "print(minOperations(21))"
   ]
  },
  {
   "cell_type": "code",
   "execution_count": null,
   "id": "a4b7552d-7780-47e4-864a-5e7cc5f33403",
   "metadata": {},
   "outputs": [],
   "source": []
  }
 ],
 "metadata": {
  "kernelspec": {
   "display_name": "Python 3 (ipykernel)",
   "language": "python",
   "name": "python3"
  },
  "language_info": {
   "codemirror_mode": {
    "name": "ipython",
    "version": 3
   },
   "file_extension": ".py",
   "mimetype": "text/x-python",
   "name": "python",
   "nbconvert_exporter": "python",
   "pygments_lexer": "ipython3",
   "version": "3.11.4"
  }
 },
 "nbformat": 4,
 "nbformat_minor": 5
}
